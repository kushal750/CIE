{
 "cells": [
  {
   "cell_type": "code",
   "execution_count": 28,
   "id": "ff62c769-c3f3-490c-80d4-cc5d04d0039c",
   "metadata": {},
   "outputs": [
    {
     "name": "stdout",
     "output_type": "stream",
     "text": [
      "reversing the data [19 15 13 12 11  8  4  2  1]\n"
     ]
    }
   ],
   "source": [
    "#using numpy\n",
    "import numpy as np\n",
    "arr=np.array([1,2,4,8,11,12,13,15,19])\n",
    "#reversing the given data\n",
    "arr1=np.flip(arr)\n",
    "print('reversing the data',arr1)"
   ]
  },
  {
   "cell_type": "code",
   "execution_count": 19,
   "id": "a29737c3-92e8-4eaa-a4da-a1bad6ec3c5a",
   "metadata": {},
   "outputs": [
    {
     "name": "stdout",
     "output_type": "stream",
     "text": [
      " concatenate fuction jointing two array\n",
      "concatenate function is: [ 2  4  8  3  6  9 10 12 14 12 15 18]\n"
     ]
    }
   ],
   "source": [
    "#using numpy\n",
    "import numpy as np\n",
    "#assigning the data\n",
    "arr=np.array([2,4,8,3,6,9])\n",
    "arr1=np.array([10,12,14,12,15,18])\n",
    "#inserting the concatenate function\n",
    "con=np.concatenate((arr,arr1))\n",
    "print(' concatenate fuction jointing two array')\n",
    "print('concatenate function is:',con)"
   ]
  },
  {
   "cell_type": "code",
   "execution_count": 21,
   "id": "92d40390-ae3b-4151-a343-7665998a6e34",
   "metadata": {},
   "outputs": [
    {
     "name": "stdout",
     "output_type": "stream",
     "text": [
      "concatenate function axis=1\n",
      "[[ 2  4  8 10 12 14]\n",
      " [ 3  6  9 15 18 19]]\n"
     ]
    }
   ],
   "source": [
    "#using numpy\n",
    "import numpy as np\n",
    "#assigning the data\n",
    "arr=np.array([[2,4,8],[3,6,9]])\n",
    "arr1=np.array([[10,12,14],[15,18,19]])\n",
    "#inserting the concatenate with axis=1\n",
    "con=np.concatenate((arr,arr1),axis=1)\n",
    "print(\"concatenate function axis=1\")\n",
    "print(con)"
   ]
  },
  {
   "cell_type": "code",
   "execution_count": 26,
   "id": "cba7216f-6ab5-4ce1-8a90-341653149ff5",
   "metadata": {},
   "outputs": [
    {
     "name": "stdout",
     "output_type": "stream",
     "text": [
      "concatenate function axis=0\n",
      "[[ 2  4  8]\n",
      " [ 3  6  9]\n",
      " [10 12 14]\n",
      " [15 18 19]]\n"
     ]
    }
   ],
   "source": [
    "#using numpy\n",
    "import numpy as np\n",
    "#assigning the data\n",
    "arr=np.array([[2,4,8],[3,6,9]])\n",
    "arr1=np.array([[10,12,14],[15,18,19]])\n",
    "#inserting the concatenate with axis=0\n",
    "con=np.concatenate((arr,arr1),axis=0)\n",
    "print(\"concatenate function axis=0\")\n",
    "print(con)\n",
    "\n",
    "\n"
   ]
  },
  {
   "cell_type": "code",
   "execution_count": null,
   "id": "e380b604-2221-4f7c-8b1a-33c0e88067ba",
   "metadata": {},
   "outputs": [],
   "source": []
  },
  {
   "cell_type": "code",
   "execution_count": null,
   "id": "1009f913-2b88-4812-a1fc-cba147ac1177",
   "metadata": {},
   "outputs": [],
   "source": []
  }
 ],
 "metadata": {
  "kernelspec": {
   "display_name": "Python 3 (ipykernel)",
   "language": "python",
   "name": "python3"
  },
  "language_info": {
   "codemirror_mode": {
    "name": "ipython",
    "version": 3
   },
   "file_extension": ".py",
   "mimetype": "text/x-python",
   "name": "python",
   "nbconvert_exporter": "python",
   "pygments_lexer": "ipython3",
   "version": "3.12.4"
  }
 },
 "nbformat": 4,
 "nbformat_minor": 5
}
